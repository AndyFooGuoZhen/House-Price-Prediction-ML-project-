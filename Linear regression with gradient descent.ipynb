{
 "cells": [
  {
   "cell_type": "code",
   "execution_count": 1,
   "metadata": {},
   "outputs": [],
   "source": [
    "import pandas as pd\n",
    "import numpy as np\n",
    "import matplotlib.pyplot as plt"
   ]
  },
  {
   "cell_type": "code",
   "execution_count": 2,
   "metadata": {},
   "outputs": [
    {
     "data": {
      "text/html": [
       "<div>\n",
       "<style scoped>\n",
       "    .dataframe tbody tr th:only-of-type {\n",
       "        vertical-align: middle;\n",
       "    }\n",
       "\n",
       "    .dataframe tbody tr th {\n",
       "        vertical-align: top;\n",
       "    }\n",
       "\n",
       "    .dataframe thead th {\n",
       "        text-align: right;\n",
       "    }\n",
       "</style>\n",
       "<table border=\"1\" class=\"dataframe\">\n",
       "  <thead>\n",
       "    <tr style=\"text-align: right;\">\n",
       "      <th></th>\n",
       "      <th>area</th>\n",
       "      <th>price</th>\n",
       "    </tr>\n",
       "  </thead>\n",
       "  <tbody>\n",
       "    <tr>\n",
       "      <th>0</th>\n",
       "      <td>2600</td>\n",
       "      <td>550000</td>\n",
       "    </tr>\n",
       "    <tr>\n",
       "      <th>1</th>\n",
       "      <td>3000</td>\n",
       "      <td>565000</td>\n",
       "    </tr>\n",
       "    <tr>\n",
       "      <th>2</th>\n",
       "      <td>3200</td>\n",
       "      <td>610000</td>\n",
       "    </tr>\n",
       "    <tr>\n",
       "      <th>3</th>\n",
       "      <td>3600</td>\n",
       "      <td>680000</td>\n",
       "    </tr>\n",
       "    <tr>\n",
       "      <th>4</th>\n",
       "      <td>4000</td>\n",
       "      <td>725000</td>\n",
       "    </tr>\n",
       "  </tbody>\n",
       "</table>\n",
       "</div>"
      ],
      "text/plain": [
       "   area   price\n",
       "0  2600  550000\n",
       "1  3000  565000\n",
       "2  3200  610000\n",
       "3  3600  680000\n",
       "4  4000  725000"
      ]
     },
     "execution_count": 2,
     "metadata": {},
     "output_type": "execute_result"
    }
   ],
   "source": [
    "df=pd.read_csv('homeprices.csv')\n",
    "df"
   ]
  },
  {
   "cell_type": "code",
   "execution_count": 3,
   "metadata": {},
   "outputs": [
    {
     "data": {
      "text/plain": [
       "array([[1., 1.],\n",
       "       [1., 1.],\n",
       "       [1., 1.],\n",
       "       [1., 1.],\n",
       "       [1., 1.]])"
      ]
     },
     "execution_count": 3,
     "metadata": {},
     "output_type": "execute_result"
    }
   ],
   "source": [
    "x=np.ones((5,2))\n",
    "x"
   ]
  },
  {
   "cell_type": "code",
   "execution_count": 4,
   "metadata": {},
   "outputs": [
    {
     "data": {
      "text/plain": [
       "array([[1.0e+00, 2.6e+03],\n",
       "       [1.0e+00, 3.0e+03],\n",
       "       [1.0e+00, 3.2e+03],\n",
       "       [1.0e+00, 3.6e+03],\n",
       "       [1.0e+00, 4.0e+03]])"
      ]
     },
     "execution_count": 4,
     "metadata": {},
     "output_type": "execute_result"
    }
   ],
   "source": [
    "x[:,1]=df['area']\n",
    "x"
   ]
  },
  {
   "cell_type": "code",
   "execution_count": 5,
   "metadata": {},
   "outputs": [],
   "source": [
    "m=len(x)\n",
    "alpha=0.2\n",
    "y=df['price'].values\n",
    "y=y.reshape((5,1))"
   ]
  },
  {
   "cell_type": "code",
   "execution_count": 6,
   "metadata": {},
   "outputs": [
    {
     "name": "stdout",
     "output_type": "stream",
     "text": [
      "[[ 1.         -1.40693001]\n",
      " [ 1.         -0.57932412]\n",
      " [ 1.         -0.16552118]\n",
      " [ 1.          0.66208471]\n",
      " [ 1.          1.4896906 ]]\n"
     ]
    }
   ],
   "source": [
    "theta=np.array([[1],[2]])\n",
    "theta.shape\n",
    "\n",
    "ymean=y.mean()\n",
    "ystd=y.std()\n",
    "\n",
    "y=(y-ymean)/ystd\n",
    "\n",
    "\n",
    "xmean=x[:,1].mean()\n",
    "xstd=x[:,1].std()\n",
    "\n",
    "x[:,1]=(x[:,1]-xmean)/xstd\n",
    "\n",
    "print(x)\n"
   ]
  },
  {
   "cell_type": "markdown",
   "metadata": {},
   "source": [
    "# Gradient Descent to mimimize loss"
   ]
  },
  {
   "cell_type": "code",
   "execution_count": 7,
   "metadata": {
    "scrolled": true
   },
   "outputs": [
    {
     "name": "stdout",
     "output_type": "stream",
     "text": [
      "1.0420111197251922\n",
      "[[0.8       ]\n",
      " [1.79579889]]\n",
      "0.6743696961365323\n",
      "[[0.64    ]\n",
      " [1.632438]]\n",
      "0.43907918503979015\n",
      "[[0.512     ]\n",
      " [1.50174929]]\n",
      "0.28849325793787484\n",
      "[[0.4096    ]\n",
      " [1.39719832]]\n",
      "0.19211826459264925\n",
      "[[0.32768   ]\n",
      " [1.31355754]]\n",
      "0.13043826885170476\n",
      "[[0.262144  ]\n",
      " [1.24664492]]\n",
      "0.09096307157750022\n",
      "[[0.2097152 ]\n",
      " [1.19311483]]\n",
      "0.06569894532200941\n",
      "[[0.16777216]\n",
      " [1.15029075]]\n",
      "0.04952990451849528\n",
      "[[0.13421773]\n",
      " [1.11603149]]\n",
      "0.03918171840424621\n",
      "[[0.10737418]\n",
      " [1.08862408]]\n",
      "0.03255887929112682\n",
      "[[0.08589935]\n",
      " [1.06669815]]\n",
      "0.0283202622587304\n",
      "[[0.06871948]\n",
      " [1.04915741]]\n",
      "0.025607547357996696\n",
      "[[0.05497558]\n",
      " [1.03512481]]\n",
      "0.023871409821527117\n",
      "[[0.04398047]\n",
      " [1.02389874]]\n",
      "0.0227602817981866\n",
      "[[0.03518437]\n",
      " [1.01491788]]\n",
      "0.022049159863248662\n",
      "[[0.0281475 ]\n",
      " [1.00773319]]\n",
      "0.021594041824888388\n",
      "[[0.022518  ]\n",
      " [1.00198544]]\n",
      "0.021302766280337806\n",
      "[[0.0180144 ]\n",
      " [0.99738724]]\n",
      "0.021116349931825425\n",
      "[[0.01441152]\n",
      " [0.99370868]]\n",
      "0.020997043468777513\n",
      "[[0.01152922]\n",
      " [0.99076583]]\n",
      "0.020920687332426847\n",
      "[[0.00922337]\n",
      " [0.98841155]]\n",
      "0.020871819405162417\n",
      "[[0.0073787 ]\n",
      " [0.98652813]]\n",
      "0.02084054393171319\n",
      "[[0.00590296]\n",
      " [0.98502139]]\n",
      "0.020820527628705687\n",
      "[[0.00472237]\n",
      " [0.983816  ]]\n",
      "0.020807717194780865\n",
      "[[0.00377789]\n",
      " [0.98285169]]\n",
      "0.020799518517068998\n",
      "[[0.00302231]\n",
      " [0.98208024]]\n",
      "0.020794271363333398\n",
      "[[0.00241785]\n",
      " [0.98146308]]\n",
      "0.020790913184942614\n",
      "[[0.00193428]\n",
      " [0.98096935]]\n",
      "0.02078876395077252\n",
      "[[0.00154743]\n",
      " [0.98057437]]\n",
      "0.020787388440903644\n",
      "[[0.00123794]\n",
      " [0.98025838]]\n",
      "0.020786508114587574\n",
      "[[0.00099035]\n",
      " [0.9800056 ]]\n",
      "0.02078594470574529\n",
      "[[7.92281625e-04]\n",
      " [9.79803364e-01]]\n",
      "0.020785584124086216\n",
      "[[6.33825300e-04]\n",
      " [9.79641579e-01]]\n",
      "0.020785353351824416\n",
      "[[5.07060240e-04]\n",
      " [9.79512151e-01]]\n",
      "0.020785205657576866\n",
      "[[4.05648192e-04]\n",
      " [9.79408609e-01]]\n",
      "0.02078511113325843\n",
      "[[3.24518554e-04]\n",
      " [9.79325775e-01]]\n",
      "0.020785050637694643\n",
      "[[2.59614843e-04]\n",
      " [9.79259508e-01]]\n",
      "0.0207850119205338\n",
      "[[2.07691874e-04]\n",
      " [9.79206495e-01]]\n",
      "0.02078498714155088\n",
      "[[1.66153499e-04]\n",
      " [9.79164084e-01]]\n",
      "0.02078497128300181\n",
      "[[1.32922800e-04]\n",
      " [9.79130155e-01]]\n",
      "0.020784961133530393\n",
      "[[1.06338240e-04]\n",
      " [9.79103012e-01]]\n",
      "0.020784954637868686\n",
      "[[8.50705917e-05]\n",
      " [9.79081298e-01]]\n",
      "0.020784950480645197\n",
      "[[6.80564734e-05]\n",
      " [9.79063926e-01]]\n",
      "0.020784947820022166\n",
      "[[5.44451787e-05]\n",
      " [9.79050029e-01]]\n",
      "0.02078494611722342\n",
      "[[4.35561430e-05]\n",
      " [9.79038911e-01]]\n",
      "0.020784945027432236\n",
      "[[3.48449144e-05]\n",
      " [9.79030017e-01]]\n",
      "0.02078494432996586\n",
      "[[2.78759315e-05]\n",
      " [9.79022902e-01]]\n",
      "0.020784943883587398\n",
      "[[2.23007452e-05]\n",
      " [9.79017209e-01]]\n",
      "0.020784943597905163\n",
      "[[1.78405962e-05]\n",
      " [9.79012655e-01]]\n",
      "0.02078494341506855\n",
      "[[1.42724769e-05]\n",
      " [9.79009012e-01]]\n",
      "0.020784943298053117\n",
      "[[1.14179815e-05]\n",
      " [9.79006098e-01]]\n",
      "0.02078494322316323\n",
      "[[9.13438523e-06]\n",
      " [9.79003766e-01]]\n",
      "0.02078494317523371\n",
      "[[7.30750819e-06]\n",
      " [9.79001901e-01]]\n",
      "0.020784943144558813\n",
      "[[5.84600655e-06]\n",
      " [9.79000409e-01]]\n",
      "0.02078494312492688\n",
      "[[4.67680524e-06]\n",
      " [9.78999215e-01]]\n",
      "0.020784943112362435\n",
      "[[3.74144419e-06]\n",
      " [9.78998260e-01]]\n",
      "0.020784943104321208\n",
      "[[2.99315535e-06]\n",
      " [9.78997496e-01]]\n",
      "0.020784943099174797\n",
      "[[2.39452428e-06]\n",
      " [9.78996885e-01]]\n",
      "0.020784943095881112\n",
      "[[1.91561943e-06]\n",
      " [9.78996396e-01]]\n",
      "0.02078494309377315\n",
      "[[1.53249554e-06]\n",
      " [9.78996005e-01]]\n",
      "0.020784943092424058\n",
      "[[1.22599643e-06]\n",
      " [9.78995692e-01]]\n",
      "0.02078494309156064\n",
      "[[9.80797146e-07]\n",
      " [9.78995442e-01]]\n",
      "0.020784943091008055\n",
      "[[7.84637717e-07]\n",
      " [9.78995241e-01]]\n",
      "0.02078494309065439\n",
      "[[6.27710174e-07]\n",
      " [9.78995081e-01]]\n",
      "0.020784943090428047\n",
      "[[5.02168139e-07]\n",
      " [9.78994953e-01]]\n",
      "0.02078494309028319\n",
      "[[4.01734511e-07]\n",
      " [9.78994850e-01]]\n",
      "0.020784943090190477\n",
      "[[3.21387609e-07]\n",
      " [9.78994768e-01]]\n",
      "0.020784943090131146\n",
      "[[2.57110087e-07]\n",
      " [9.78994703e-01]]\n",
      "0.020784943090093183\n",
      "[[2.0568807e-07]\n",
      " [9.7899465e-01]]\n",
      "0.020784943090068876\n",
      "[[1.64550456e-07]\n",
      " [9.78994608e-01]]\n",
      "0.020784943090053316\n",
      "[[1.31640365e-07]\n",
      " [9.78994575e-01]]\n",
      "0.02078494309004336\n",
      "[[1.05312292e-07]\n",
      " [9.78994548e-01]]\n",
      "0.02078494309003699\n",
      "[[8.42498334e-08]\n",
      " [9.78994526e-01]]\n",
      "0.02078494309003292\n",
      "[[6.73998667e-08]\n",
      " [9.78994509e-01]]\n",
      "0.0207849430900303\n",
      "[[5.39198934e-08]\n",
      " [9.78994495e-01]]\n",
      "0.020784943090028634\n",
      "[[4.31359147e-08]\n",
      " [9.78994484e-01]]\n",
      "0.02078494309002757\n",
      "[[3.45087318e-08]\n",
      " [9.78994475e-01]]\n",
      "0.020784943090026885\n",
      "[[2.76069854e-08]\n",
      " [9.78994468e-01]]\n",
      "0.020784943090026438\n",
      "[[2.20855883e-08]\n",
      " [9.78994463e-01]]\n",
      "0.020784943090026174\n",
      "[[1.76684707e-08]\n",
      " [9.78994458e-01]]\n",
      "0.02078494309002598\n",
      "[[1.41347765e-08]\n",
      " [9.78994455e-01]]\n",
      "0.02078494309002588\n",
      "[[1.13078212e-08]\n",
      " [9.78994452e-01]]\n",
      "0.0207849430900258\n",
      "[[9.04625700e-09]\n",
      " [9.78994449e-01]]\n",
      "0.02078494309002574\n",
      "[[7.23700560e-09]\n",
      " [9.78994448e-01]]\n",
      "0.020784943090025716\n",
      "[[5.78960448e-09]\n",
      " [9.78994446e-01]]\n",
      "0.0207849430900257\n",
      "[[4.63168359e-09]\n",
      " [9.78994445e-01]]\n",
      "0.020784943090025692\n",
      "[[3.70534689e-09]\n",
      " [9.78994444e-01]]\n",
      "0.020784943090025678\n",
      "[[2.96427751e-09]\n",
      " [9.78994443e-01]]\n",
      "0.02078494309002568\n",
      "[[2.37142201e-09]\n",
      " [9.78994443e-01]]\n",
      "0.02078494309002567\n",
      "[[1.89713762e-09]\n",
      " [9.78994442e-01]]\n",
      "0.020784943090025675\n",
      "[[1.51771009e-09]\n",
      " [9.78994442e-01]]\n",
      "0.020784943090025664\n",
      "[[1.21416807e-09]\n",
      " [9.78994441e-01]]\n",
      "0.020784943090025675\n",
      "[[9.71334462e-10]\n",
      " [9.78994441e-01]]\n",
      "0.020784943090025657\n",
      "[[7.77067569e-10]\n",
      " [9.78994441e-01]]\n",
      "0.02078494309002567\n",
      "[[6.21654074e-10]\n",
      " [9.78994441e-01]]\n",
      "0.020784943090025668\n",
      "[[4.97323272e-10]\n",
      " [9.78994441e-01]]\n",
      "0.020784943090025668\n",
      "[[3.97858623e-10]\n",
      " [9.78994441e-01]]\n",
      "0.020784943090025668\n",
      "[[3.18286901e-10]\n",
      " [9.78994440e-01]]\n",
      "0.02078494309002566\n",
      "[[2.54629508e-10]\n",
      " [9.78994440e-01]]\n",
      "0.020784943090025675\n",
      "[[2.03703618e-10]\n",
      " [9.78994440e-01]]\n"
     ]
    }
   ],
   "source": [
    "for i in range(100):\n",
    "    \n",
    "\n",
    "    loss= (x@theta)-y\n",
    "\n",
    "    loss=loss**2\n",
    "\n",
    "    loss=np.sum(loss)\n",
    "\n",
    "    cost=loss/(2*m)\n",
    "    \n",
    "    print(cost)\n",
    "\n",
    "    theta=theta-(alpha/m)*((((x@theta)-y).transpose()@x).transpose())\n",
    "\n",
    "    print(theta)"
   ]
  },
  {
   "cell_type": "code",
   "execution_count": 8,
   "metadata": {},
   "outputs": [
    {
     "data": {
      "text/plain": [
       "array([[2.03703618e-10],\n",
       "       [9.78994440e-01]])"
      ]
     },
     "execution_count": 8,
     "metadata": {},
     "output_type": "execute_result"
    }
   ],
   "source": [
    "\n",
    "theta"
   ]
  },
  {
   "cell_type": "code",
   "execution_count": 9,
   "metadata": {},
   "outputs": [
    {
     "data": {
      "text/plain": [
       "0.9789944403453863"
      ]
     },
     "execution_count": 9,
     "metadata": {},
     "output_type": "execute_result"
    }
   ],
   "source": [
    "theta[1,0]"
   ]
  },
  {
   "cell_type": "code",
   "execution_count": 10,
   "metadata": {},
   "outputs": [
    {
     "data": {
      "text/plain": [
       "array([-1.40693001, -0.57932412, -0.16552118,  0.66208471,  1.4896906 ])"
      ]
     },
     "execution_count": 10,
     "metadata": {},
     "output_type": "execute_result"
    }
   ],
   "source": [
    "xnew=x[:,1]\n",
    "xnew\n"
   ]
  },
  {
   "cell_type": "code",
   "execution_count": 11,
   "metadata": {},
   "outputs": [
    {
     "data": {
      "text/plain": [
       "array([[-1.37737666],\n",
       "       [-0.56715509],\n",
       "       [-0.16204431],\n",
       "       [ 0.64817725],\n",
       "       [ 1.45839881]])"
      ]
     },
     "execution_count": 11,
     "metadata": {},
     "output_type": "execute_result"
    }
   ],
   "source": [
    "h=x@theta\n",
    "h"
   ]
  },
  {
   "cell_type": "code",
   "execution_count": 12,
   "metadata": {},
   "outputs": [
    {
     "data": {
      "text/plain": [
       "[<matplotlib.lines.Line2D at 0x1ef81271f40>]"
      ]
     },
     "execution_count": 12,
     "metadata": {},
     "output_type": "execute_result"
    },
    {
     "data": {
      "image/png": "[encoded data removed]",
      "text/plain": [
       "<Figure size 432x288 with 1 Axes>"
      ]
     },
     "metadata": {
      "needs_background": "light"
     },
     "output_type": "display_data"
    }
   ],
   "source": [
    "plt.scatter(xnew,y,color='red')\n",
    "plt.plot(xnew,h,color='blue')"
   ]
  },
  {
   "cell_type": "markdown",
   "metadata": {},
   "source": [
    "# Making predictions using trained weights"
   ]
  },
  {
   "cell_type": "code",
   "execution_count": 13,
   "metadata": {},
   "outputs": [
    {
     "name": "stdout",
     "output_type": "stream",
     "text": [
      "3280.0\n"
     ]
    }
   ],
   "source": [
    "print(xmean)\n",
    "\n",
    "to_predict_area=3300\n",
    "\n",
    "pred=((to_predict_area-xmean)/xstd)*theta[1,0]+theta[0,0]"
   ]
  },
  {
   "cell_type": "code",
   "execution_count": 14,
   "metadata": {},
   "outputs": [
    {
     "name": "stdout",
     "output_type": "stream",
     "text": [
      "628715.7534388902\n"
     ]
    }
   ],
   "source": [
    "final_price=pred*ystd+ymean\n",
    "print(final_price)"
   ]
  },
  {
   "cell_type": "code",
   "execution_count": null,
   "metadata": {},
   "outputs": [],
   "source": []
  }
 ],
 "metadata": {
  "kernelspec": {
   "display_name": "Python 3",
   "language": "python",
   "name": "python3"
  },
  "language_info": {
   "codemirror_mode": {
    "name": "ipython",
    "version": 3
   },
   "file_extension": ".py",
   "mimetype": "text/x-python",
   "name": "python",
   "nbconvert_exporter": "python",
   "pygments_lexer": "ipython3",
   "version": "3.8.5"
  }
 },
 "nbformat": 4,
 "nbformat_minor": 4
}
